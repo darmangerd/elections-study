{
 "cells": [
  {
   "attachments": {},
   "cell_type": "markdown",
   "metadata": {},
   "source": [
    "# Mini-projet - Elections\n",
    "*Basé sur Hands-on Data Preprocessing, R. Jafari, 2022*\n",
    "\n",
    "**Ce TP est noté. Merci de lire attentivement le fichier instructions.pdf avant de commencer**\n",
    "\n",
    "Nom étudiant 1: **Gombas**\n",
    "\n",
    "Prénom étudiant 1: **Owen**\n",
    "\n",
    "Nom étudiant 2: **Darmanger**\n",
    "\n",
    "Prénom étudiant 2: **David**"
   ]
  },
  {
   "cell_type": "markdown",
   "metadata": {},
   "source": [
    "## Préambule"
   ]
  },
  {
   "cell_type": "markdown",
   "metadata": {},
   "source": [
    "### Imports"
   ]
  },
  {
   "cell_type": "code",
   "execution_count": null,
   "metadata": {},
   "outputs": [],
   "source": [
    "# packages standards\n",
    "import pandas as pd\n",
    "import os\n",
    "import numpy as np\n",
    "from matplotlib import pyplot as plt\n",
    "from typing import List, Dict, Tuple, Callable, Any\n",
    "import re"
   ]
  },
  {
   "cell_type": "code",
   "execution_count": null,
   "metadata": {},
   "outputs": [],
   "source": [
    "# packages spécifiques\n",
    "import matplotlib.image as mpimg\n",
    "import seaborn as sns\n",
    "import glob"
   ]
  },
  {
   "cell_type": "markdown",
   "metadata": {},
   "source": [
    "### Data"
   ]
  },
  {
   "cell_type": "code",
   "execution_count": null,
   "metadata": {},
   "outputs": [],
   "source": [
    "DATA_FOLDER = os.path.join(\".\", \"data\")  # chemin relatif et nom du dossier \"data\"\n",
    "\n",
    "RAW_FOLDER = os.path.join(\n",
    "    DATA_FOLDER, \"raw\"\n",
    ")  # chemin du dossier raw (ne devrait pas être changé): INPUT\n",
    "\n",
    "PREPROCESSED_FOLDER = os.path.join(\n",
    "    DATA_FOLDER, \"preprocessed\"\n",
    ")  # chemin du dossier preprocessed (resultat du traitement raw): OUTPUT\n",
    "\n",
    "MEDIA_FOLDER = os.path.join(\n",
    "    DATA_FOLDER, \"media\"\n",
    ")  # chemin du dossier media pour les illustrations de mise en page des notebooks\n",
    "\n",
    "EXPLORATION_FOLDER = os.path.join(\n",
    "    DATA_FOLDER, \"exploration\"\n",
    ")  # chemin du dossier exploration pour les notebooks d'exploration"
   ]
  },
  {
   "cell_type": "code",
   "execution_count": null,
   "metadata": {},
   "outputs": [],
   "source": [
    "# dictionnary with filename and header row\n",
    "files = glob.glob(os.path.join(PREPROCESSED_FOLDER, \"*.csv\"))\n",
    "files"
   ]
  },
  {
   "cell_type": "code",
   "execution_count": null,
   "metadata": {},
   "outputs": [],
   "source": [
    "def read_csv(filename: str) -> pd.DataFrame:\n",
    "    return pd.read_csv(filename, dtype={\"fips\": str})"
   ]
  },
  {
   "cell_type": "code",
   "execution_count": null,
   "metadata": {},
   "outputs": [],
   "source": [
    "def numeric_df(df: pd.DataFrame) -> pd.DataFrame:\n",
    "    return df.select_dtypes(include=np.number)"
   ]
  },
  {
   "attachments": {},
   "cell_type": "markdown",
   "metadata": {},
   "source": [
    "# Boxplots"
   ]
  },
  {
   "cell_type": "code",
   "execution_count": null,
   "metadata": {},
   "outputs": [],
   "source": [
    "def plot_outliers(df: pd.DataFrame, col, ax):\n",
    "    sns.boxplot(x=col, data=df, ax=ax)\n",
    "    ax.set_title(col)\n",
    "    ax.set_xlabel(\"\")\n",
    "    ax.set_ylabel(\"\")"
   ]
  },
  {
   "cell_type": "code",
   "execution_count": null,
   "metadata": {},
   "outputs": [],
   "source": [
    "def plot_outliers_all(df: pd.DataFrame, cols: pd.Index, nrows=1, ncols=3):\n",
    "    fig, axes = plt.subplots(nrows=nrows, ncols=ncols, figsize=(ncols * 20, nrows * 5))\n",
    "    \n",
    "    for i, col in enumerate(cols):\n",
    "        plot_outliers(df, col, axes[i])\n",
    "        \n",
    "    plt.show()"
   ]
  },
  {
   "cell_type": "code",
   "execution_count": null,
   "metadata": {},
   "outputs": [],
   "source": [
    "for file in files:\n",
    "    print(os.path.basename(file))\n",
    "    df = read_csv(file)\n",
    "    df = numeric_df(df)\n",
    "\n",
    "    ncols = 1\n",
    "    nrows = df.shape[1] // ncols\n",
    "    plot_outliers_all(df, df.columns, ncols=ncols, nrows=nrows)"
   ]
  },
  {
   "attachments": {},
   "cell_type": "markdown",
   "metadata": {},
   "source": [
    "# Analyse des outliers\n",
    "Un outlier n’est pas forcément une erreur"
   ]
  },
  {
   "cell_type": "code",
   "execution_count": null,
   "metadata": {},
   "outputs": [],
   "source": [
    "def select_numerical_outliers(df: pd.DataFrame, col: str, threshold: float = 1.5) -> pd.DataFrame:\n",
    "    q1 = df[col].quantile(0.25)\n",
    "    q3 = df[col].quantile(0.75)\n",
    "    iqr = q3 - q1\n",
    "    return df[(df[col] < q1 - threshold * iqr) | (df[col] > q3 + threshold * iqr)]"
   ]
  },
  {
   "cell_type": "code",
   "execution_count": null,
   "metadata": {},
   "outputs": [],
   "source": [
    "def percentage_outliers(df: pd.DataFrame, outliers_df: pd.DataFrame, threshold: float = 1.5) -> float:\n",
    "    return len(outliers_df) / len(df) * 100"
   ]
  },
  {
   "cell_type": "code",
   "execution_count": null,
   "metadata": {},
   "outputs": [],
   "source": [
    "def remove_outliers(df: pd.DataFrame, col: str, threshold: float = 1.5) -> pd.DataFrame:\n",
    "    return df[~df.index.isin(select_numerical_outliers(df, col, threshold).index)]"
   ]
  },
  {
   "cell_type": "code",
   "execution_count": null,
   "metadata": {},
   "outputs": [],
   "source": [
    "for file in files:\n",
    "    print(os.path.basename(file))\n",
    "    df = read_csv(file)\n",
    "    df = numeric_df(df)\n",
    "    \n",
    "    for col in df.columns:\n",
    "        outliers_df = select_numerical_outliers(df, col)\n",
    "        print(f\"{percentage_outliers(df, outliers_df):.2f}% \\t outliers for {col}\")\n",
    "\n",
    "    print()"
   ]
  },
  {
   "attachments": {},
   "cell_type": "markdown",
   "metadata": {},
   "source": [
    "✅ = Garde \n",
    "- 0% d'outliers\n",
    "- L'entrée est importante\n",
    "- Variable qualitative discrête (code)\n",
    "\n",
    "❓ = Garde\n",
    "- La feature est de nature inconnue\n",
    "  \n",
    "❌ = Supprime\n",
    "- L'entrée n'est pas pertinente\n",
    "- L'entrée pourrait fausser le clustering"
   ]
  },
  {
   "attachments": {},
   "cell_type": "markdown",
   "metadata": {},
   "source": [
    "### Education.csv\n",
    "```\n",
    "✅ 0.00% \t outliers for 2013_urban_influence_code\n",
    "✅ 0.00% \t outliers for percent_of_adults_with_a_high_school_diploma_only_1980\n",
    "✅ 0.22% \t outliers for percent_of_adults_completing_some_college_or_associates_degree_2000\n",
    "✅ 14.94% \t outliers for bachelors_degree_or_higher_2015_19 \n",
    "✅ 2.13% \t outliers for percent_of_adults_with_less_than_a_high_school_diploma_2015_19\n",
    "✅ 1.14% \t outliers for percent_of_adults_with_a_high_school_diploma_only_2015_19\n",
    "✅ 0.82% \t outliers for percent_of_adults_completing_some_college_or_associates_degree_2015_19\n",
    "✅ 4.66% \t outliers for percent_of_adults_with_a_bachelors_degree_or_higher_2015_19\n",
    "```\n",
    "\n",
    "### PopulationEstimates.csv\n",
    "```\n",
    "✅ 0.00% \t outliers for urban_influence_code_2013\n",
    "✅ 0.00% \t outliers for economic_typology_2015\n",
    "❓ 16.52% \t outliers for international_mig_2019\n",
    "❓ 19.76% \t outliers for net_mig_2010\n",
    "❓ 18.40% \t outliers for net_mig_2019\n",
    "❓ 18.49% \t outliers for residual_2010\n",
    "❓ 12.95% \t outliers for residual_2011\n",
    "❓ 17.00% \t outliers for residual_2012\n",
    "❓ 20.85% \t outliers for residual_2013\n",
    "❓ 12.32% \t outliers for residual_2016\n",
    "❓ 12.51% \t outliers for residual_2019\n",
    "❓ 11.49% \t outliers for gq_estimates_2019\n",
    "❓ 3.69% \t outliers for r_birth_2019\n",
    "❓ 1.37% \t outliers for r_death_2019\n",
    "❓ 2.64% \t outliers for r_natural_inc_2019\n",
    "❓ 8.66% \t outliers for r_international_mig_2011\n",
    "❓ 10.22% \t outliers for r_international_mig_2019\n",
    "❓ 5.35% \t outliers for r_net_mig_2011\n",
    "❓ 5.89% \t outliers for r_net_mig_2012\n",
    "❓ 5.79% \t outliers for r_net_mig_2013\n",
    "❓ 5.00% \t outliers for r_net_mig_2014\n",
    "❓ 5.70% \t outliers for r_net_mig_2015\n",
    "❓ 5.70% \t outliers for r_net_mig_2016\n",
    "❓ 5.06% \t outliers for r_net_mig_2017\n",
    "❓ 4.84% \t outliers for r_net_mig_2018\n",
    "❓ 6.30% \t outliers for r_net_mig_2019\n",
    "```\n",
    "\n",
    "### countypres_2000-2020.csv\n",
    "```\n",
    "✅ 0.00% \t outliers for year\n",
    "✅ 12.72% \t outliers for candidatevotes\n",
    "✅ 13.33% \t outliers for totalvotes\n",
    "✅ 0.00% \t outliers for version\n",
    "```\n",
    "  \n",
    "### PovertyEstimates.csv\n",
    "```\n",
    "✅ 0.00% \t outliers for urban_influence_code_2013\n",
    "❓ 12.00% \t outliers for ci90ub517_2019\n",
    "❓ 1.94% \t outliers for ci90ub517p_2019\n",
    "❓ 4.30% \t outliers for ci90ubinc_2019\n",
    "```\n",
    " \n",
    "### Unemployment.csv\n",
    "```\n",
    "✅ 0.00% \t outliers for urban_influence_code_2013\n",
    "✅ 0.00% \t outliers for metro_2013\n",
    "✅ 3.72% \t outliers for unemployment_rate_2019\n",
    "✅ 13.80% \t outliers for unemployed_2020\n",
    "✅ 1.91% \t outliers for unemployment_rate_2020\n",
    "✅ 3.21% \t outliers for med_hh_income_percent_of_state_total_2019\n",
    "```"
   ]
  }
 ],
 "metadata": {
  "kernelspec": {
   "display_name": "base",
   "language": "python",
   "name": "python3"
  },
  "language_info": {
   "codemirror_mode": {
    "name": "ipython",
    "version": 3
   },
   "file_extension": ".py",
   "mimetype": "text/x-python",
   "name": "python",
   "nbconvert_exporter": "python",
   "pygments_lexer": "ipython3",
   "version": "3.10.6"
  },
  "orig_nbformat": 4,
  "vscode": {
   "interpreter": {
    "hash": "29161f9228c19f34a287464c1e34440c1f1ab8a7e7c0ac2d20804b112cbb89b6"
   }
  }
 },
 "nbformat": 4,
 "nbformat_minor": 2
}
