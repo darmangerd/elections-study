{
 "cells": [
  {
   "attachments": {},
   "cell_type": "markdown",
   "metadata": {},
   "source": [
    "# Mini-projet - Elections\n",
    "*Basé sur Hands-on Data Preprocessing, R. Jafari, 2022*\n",
    "\n",
    "**Ce TP est noté. Merci de lire attentivement le fichier instructions.pdf avant de commencer**\n",
    "\n",
    "Nom étudiant 1: **Gombas**\n",
    "\n",
    "Prénom étudiant 1: **Owen**\n",
    "\n",
    "Nom étudiant 2: **Darmanger**\n",
    "\n",
    "Prénom étudiant 2: **David**"
   ]
  },
  {
   "cell_type": "markdown",
   "metadata": {},
   "source": [
    "## Préambule"
   ]
  },
  {
   "cell_type": "markdown",
   "metadata": {},
   "source": [
    "### Imports"
   ]
  },
  {
   "cell_type": "code",
   "execution_count": 43,
   "metadata": {},
   "outputs": [],
   "source": [
    "# packages standards\n",
    "import pandas as pd\n",
    "import os\n",
    "import numpy as np\n",
    "from matplotlib import pyplot as plt\n",
    "from typing import List, Dict, Tuple, Callable, Any\n",
    "import re"
   ]
  },
  {
   "cell_type": "code",
   "execution_count": 44,
   "metadata": {},
   "outputs": [],
   "source": [
    "# packages spécifiques\n",
    "import matplotlib.image as mpimg\n",
    "import seaborn as sns"
   ]
  },
  {
   "cell_type": "markdown",
   "metadata": {},
   "source": [
    "### Data"
   ]
  },
  {
   "cell_type": "code",
   "execution_count": 45,
   "metadata": {},
   "outputs": [],
   "source": [
    "DATA_FOLDER = os.path.join(\".\", \"data\")  # chemin relatif et nom du dossier \"data\"\n",
    "\n",
    "RAW_FOLDER = os.path.join(\n",
    "    DATA_FOLDER, \"raw\"\n",
    ")  # chemin du dossier raw (ne devrait pas être changé): INPUT\n",
    "\n",
    "PREPROCESSED_FOLDER = os.path.join(\n",
    "    DATA_FOLDER, \"preprocessed\"\n",
    ")  # chemin du dossier preprocessed (resultat du traitement raw): OUTPUT\n",
    "\n",
    "MEDIA_FOLDER = os.path.join(\n",
    "    DATA_FOLDER, \"media\"\n",
    ")  # chemin du dossier media pour les illustrations de mise en page des notebooks\n",
    "\n",
    "EXPLORATION_FOLDER = os.path.join(\n",
    "    DATA_FOLDER, \"exploration\"\n",
    ")  # chemin du dossier exploration pour les notebooks d'exploration"
   ]
  },
  {
   "cell_type": "code",
   "execution_count": 46,
   "metadata": {},
   "outputs": [],
   "source": [
    "import numpy as np\n",
    "import matplotlib.pyplot as plt\n",
    "import pandas as pd\n",
    "import seaborn as sns\n",
    "import glob\n",
    "from pandas_profiling import ProfileReport"
   ]
  },
  {
   "cell_type": "code",
   "execution_count": 47,
   "metadata": {},
   "outputs": [
    {
     "data": {
      "text/plain": [
       "['./data/preprocessed/clean_PopulationEstimates.csv',\n",
       " './data/preprocessed/clean_PovertyEstimates.csv',\n",
       " './data/preprocessed/clean_countypres_2000-2020.csv',\n",
       " './data/preprocessed/clean_Unemployment.csv',\n",
       " './data/preprocessed/clean_Education.csv']"
      ]
     },
     "execution_count": 47,
     "metadata": {},
     "output_type": "execute_result"
    }
   ],
   "source": [
    "# dictionnary with filename and header row\n",
    "files = glob.glob(os.path.join(PREPROCESSED_FOLDER, \"clean_*.csv\"))\n",
    "files"
   ]
  },
  {
   "cell_type": "code",
   "execution_count": 48,
   "metadata": {},
   "outputs": [
    {
     "name": "stderr",
     "output_type": "stream",
     "text": [
      "Summarize dataset: 100%|██████████| 429/429 [00:29<00:00, 14.41it/s, Completed]                                                              \n",
      "Generate report structure: 100%|██████████| 1/1 [00:03<00:00,  3.34s/it]\n",
      "Render HTML: 100%|██████████| 1/1 [00:06<00:00,  6.42s/it]\n",
      "Export report to file: 100%|██████████| 1/1 [00:00<00:00, 63.82it/s]\n",
      "Summarize dataset: 100%|██████████| 29/29 [00:01<00:00, 23.55it/s, Completed]                                                               \n",
      "Generate report structure: 100%|██████████| 1/1 [00:00<00:00,  1.53it/s]\n",
      "Render HTML: 100%|██████████| 1/1 [00:00<00:00,  3.04it/s]\n",
      "Export report to file: 100%|██████████| 1/1 [00:00<00:00, 958.70it/s]\n",
      "Summarize dataset: 100%|██████████| 22/22 [00:01<00:00, 21.77it/s, Completed]                             \n",
      "Generate report structure: 100%|██████████| 1/1 [00:00<00:00,  1.18it/s]\n",
      "Render HTML: 100%|██████████| 1/1 [00:00<00:00,  4.72it/s]\n",
      "Export report to file: 100%|██████████| 1/1 [00:00<00:00, 1121.17it/s]\n",
      "Summarize dataset: 100%|██████████| 39/39 [00:01<00:00, 19.53it/s, Completed]                                                               \n",
      "Generate report structure: 100%|██████████| 1/1 [00:00<00:00,  1.20it/s]\n",
      "Render HTML: 100%|██████████| 1/1 [00:00<00:00,  1.97it/s]\n",
      "Export report to file: 100%|██████████| 1/1 [00:00<00:00, 726.16it/s]\n",
      "Summarize dataset: 100%|██████████| 29/29 [00:01<00:00, 20.59it/s, Completed]                                                                                                                       \n",
      "Generate report structure: 100%|██████████| 1/1 [00:00<00:00,  1.50it/s]\n",
      "Render HTML: 100%|██████████| 1/1 [00:00<00:00,  2.82it/s]\n",
      "Export report to file: 100%|██████████| 1/1 [00:00<00:00, 459.55it/s]\n"
     ]
    }
   ],
   "source": [
    "for file in files:\n",
    "    df = pd.read_csv(file)\n",
    "    profile = ProfileReport(df, title=os.path.basename(file), explorative=True)\n",
    "    profile.to_file(os.path.join(EXPLORATION_FOLDER, \"profile_\" + os.path.basename(file) + \".html\"))"
   ]
  }
 ],
 "metadata": {
  "kernelspec": {
   "display_name": "base",
   "language": "python",
   "name": "python3"
  },
  "language_info": {
   "codemirror_mode": {
    "name": "ipython",
    "version": 3
   },
   "file_extension": ".py",
   "mimetype": "text/x-python",
   "name": "python",
   "nbconvert_exporter": "python",
   "pygments_lexer": "ipython3",
   "version": "3.9.7"
  },
  "orig_nbformat": 4,
  "vscode": {
   "interpreter": {
    "hash": "c630b349f7183e9a5f9274d889fc3e15c392ce12037771bccbc1917471fc634b"
   }
  }
 },
 "nbformat": 4,
 "nbformat_minor": 2
}
